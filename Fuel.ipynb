{
 "cells": [
  {
   "cell_type": "code",
   "execution_count": 77,
   "metadata": {},
   "outputs": [],
   "source": [
    "import altair as alt\n",
    "import pandas as pd"
   ]
  },
  {
   "cell_type": "code",
   "execution_count": 78,
   "metadata": {},
   "outputs": [],
   "source": [
    "data = pd.read_csv('fuel_formatted_v03.csv', index_col=0)"
   ]
  },
  {
   "cell_type": "code",
   "execution_count": 79,
   "metadata": {},
   "outputs": [
    {
     "data": {
      "text/html": [
       "<div>\n",
       "<style scoped>\n",
       "    .dataframe tbody tr th:only-of-type {\n",
       "        vertical-align: middle;\n",
       "    }\n",
       "\n",
       "    .dataframe tbody tr th {\n",
       "        vertical-align: top;\n",
       "    }\n",
       "\n",
       "    .dataframe thead th {\n",
       "        text-align: right;\n",
       "    }\n",
       "</style>\n",
       "<table border=\"1\" class=\"dataframe\">\n",
       "  <thead>\n",
       "    <tr style=\"text-align: right;\">\n",
       "      <th></th>\n",
       "      <th>odometer</th>\n",
       "      <th>grade</th>\n",
       "      <th>price</th>\n",
       "      <th>litre</th>\n",
       "      <th>cost</th>\n",
       "      <th>date</th>\n",
       "      <th>tank</th>\n",
       "      <th>fueleff</th>\n",
       "    </tr>\n",
       "  </thead>\n",
       "  <tbody>\n",
       "    <tr>\n",
       "      <th>0</th>\n",
       "      <td>10795</td>\n",
       "      <td>94</td>\n",
       "      <td>1.389</td>\n",
       "      <td>5.129</td>\n",
       "      <td>7.12</td>\n",
       "      <td>2016-06-14 00:00:00+00:00</td>\n",
       "      <td>33.53</td>\n",
       "      <td>NaN</td>\n",
       "    </tr>\n",
       "    <tr>\n",
       "      <th>1</th>\n",
       "      <td>10967</td>\n",
       "      <td>94</td>\n",
       "      <td>1.449</td>\n",
       "      <td>5.185</td>\n",
       "      <td>7.51</td>\n",
       "      <td>2016-06-20 00:00:00+00:00</td>\n",
       "      <td>31.24</td>\n",
       "      <td>16.68</td>\n",
       "    </tr>\n",
       "    <tr>\n",
       "      <th>2</th>\n",
       "      <td>11129</td>\n",
       "      <td>94</td>\n",
       "      <td>1.444</td>\n",
       "      <td>4.273</td>\n",
       "      <td>6.17</td>\n",
       "      <td>2016-06-24 00:00:00+00:00</td>\n",
       "      <td>37.21</td>\n",
       "      <td>22.90</td>\n",
       "    </tr>\n",
       "    <tr>\n",
       "      <th>3</th>\n",
       "      <td>11288</td>\n",
       "      <td>94</td>\n",
       "      <td>1.459</td>\n",
       "      <td>4.786</td>\n",
       "      <td>6.98</td>\n",
       "      <td>2016-06-30 00:00:00+00:00</td>\n",
       "      <td>33.43</td>\n",
       "      <td>25.45</td>\n",
       "    </tr>\n",
       "    <tr>\n",
       "      <th>4</th>\n",
       "      <td>11448</td>\n",
       "      <td>94</td>\n",
       "      <td>1.429</td>\n",
       "      <td>4.742</td>\n",
       "      <td>6.78</td>\n",
       "      <td>2016-07-07 00:00:00+00:00</td>\n",
       "      <td>32.26</td>\n",
       "      <td>27.08</td>\n",
       "    </tr>\n",
       "    <tr>\n",
       "      <th>5</th>\n",
       "      <td>11601</td>\n",
       "      <td>91</td>\n",
       "      <td>1.429</td>\n",
       "      <td>4.400</td>\n",
       "      <td>6.29</td>\n",
       "      <td>2016-07-14 00:00:00+00:00</td>\n",
       "      <td>36.59</td>\n",
       "      <td>28.27</td>\n",
       "    </tr>\n",
       "    <tr>\n",
       "      <th>6</th>\n",
       "      <td>11762</td>\n",
       "      <td>94</td>\n",
       "      <td>1.449</td>\n",
       "      <td>5.068</td>\n",
       "      <td>7.34</td>\n",
       "      <td>2016-07-18 00:00:00+00:00</td>\n",
       "      <td>34.53</td>\n",
       "      <td>28.79</td>\n",
       "    </tr>\n",
       "    <tr>\n",
       "      <th>7</th>\n",
       "      <td>11937</td>\n",
       "      <td>94</td>\n",
       "      <td>1.409</td>\n",
       "      <td>4.424</td>\n",
       "      <td>6.23</td>\n",
       "      <td>2016-07-25 00:00:00+00:00</td>\n",
       "      <td>40.01</td>\n",
       "      <td>30.05</td>\n",
       "    </tr>\n",
       "    <tr>\n",
       "      <th>8</th>\n",
       "      <td>12114</td>\n",
       "      <td>94</td>\n",
       "      <td>1.349</td>\n",
       "      <td>5.338</td>\n",
       "      <td>7.20</td>\n",
       "      <td>2016-08-02 00:00:00+00:00</td>\n",
       "      <td>30.54</td>\n",
       "      <td>30.43</td>\n",
       "    </tr>\n",
       "    <tr>\n",
       "      <th>9</th>\n",
       "      <td>12277</td>\n",
       "      <td>84</td>\n",
       "      <td>1.189</td>\n",
       "      <td>4.821</td>\n",
       "      <td>5.73</td>\n",
       "      <td>2016-08-08 00:00:00+00:00</td>\n",
       "      <td>34.23</td>\n",
       "      <td>30.77</td>\n",
       "    </tr>\n",
       "  </tbody>\n",
       "</table>\n",
       "</div>"
      ],
      "text/plain": [
       "   odometer  grade  price  litre  cost                       date   tank  \\\n",
       "0     10795     94  1.389  5.129  7.12  2016-06-14 00:00:00+00:00  33.53   \n",
       "1     10967     94  1.449  5.185  7.51  2016-06-20 00:00:00+00:00  31.24   \n",
       "2     11129     94  1.444  4.273  6.17  2016-06-24 00:00:00+00:00  37.21   \n",
       "3     11288     94  1.459  4.786  6.98  2016-06-30 00:00:00+00:00  33.43   \n",
       "4     11448     94  1.429  4.742  6.78  2016-07-07 00:00:00+00:00  32.26   \n",
       "5     11601     91  1.429  4.400  6.29  2016-07-14 00:00:00+00:00  36.59   \n",
       "6     11762     94  1.449  5.068  7.34  2016-07-18 00:00:00+00:00  34.53   \n",
       "7     11937     94  1.409  4.424  6.23  2016-07-25 00:00:00+00:00  40.01   \n",
       "8     12114     94  1.349  5.338  7.20  2016-08-02 00:00:00+00:00  30.54   \n",
       "9     12277     84  1.189  4.821  5.73  2016-08-08 00:00:00+00:00  34.23   \n",
       "\n",
       "   fueleff  \n",
       "0      NaN  \n",
       "1    16.68  \n",
       "2    22.90  \n",
       "3    25.45  \n",
       "4    27.08  \n",
       "5    28.27  \n",
       "6    28.79  \n",
       "7    30.05  \n",
       "8    30.43  \n",
       "9    30.77  "
      ]
     },
     "execution_count": 79,
     "metadata": {},
     "output_type": "execute_result"
    }
   ],
   "source": [
    "data.head(10)"
   ]
  },
  {
   "cell_type": "code",
   "execution_count": 80,
   "metadata": {},
   "outputs": [
    {
     "data": {
      "text/plain": [
       "odometer      int64\n",
       "grade         int64\n",
       "price       float64\n",
       "litre       float64\n",
       "cost        float64\n",
       "date         object\n",
       "tank        float64\n",
       "fueleff     float64\n",
       "dtype: object"
      ]
     },
     "execution_count": 80,
     "metadata": {},
     "output_type": "execute_result"
    }
   ],
   "source": [
    "data.dtypes"
   ]
  },
  {
   "cell_type": "code",
   "execution_count": 81,
   "metadata": {},
   "outputs": [
    {
     "data": {
      "application/vnd.vegalite.v2+json": {
       "$schema": "https://vega.github.io/schema/vega-lite/v2.6.0.json",
       "config": {
        "view": {
         "height": 300,
         "width": 400
        }
       },
       "data": {
        "name": "data-4b362a8ad2381def531a7a63e4bb0177"
       },
       "datasets": {
        "data-4b362a8ad2381def531a7a63e4bb0177": [
         {
          "cost": 7.12,
          "date": "2016-06-14 00:00:00+00:00",
          "fueleff": null,
          "grade": 94,
          "litre": 5.129,
          "odometer": 10795,
          "price": 1.389,
          "tank": 33.53
         },
         {
          "cost": 7.51,
          "date": "2016-06-20 00:00:00+00:00",
          "fueleff": 16.68,
          "grade": 94,
          "litre": 5.185,
          "odometer": 10967,
          "price": 1.449,
          "tank": 31.24
         },
         {
          "cost": 6.17,
          "date": "2016-06-24 00:00:00+00:00",
          "fueleff": 22.9,
          "grade": 94,
          "litre": 4.273,
          "odometer": 11129,
          "price": 1.444,
          "tank": 37.21
         },
         {
          "cost": 6.98,
          "date": "2016-06-30 00:00:00+00:00",
          "fueleff": 25.45,
          "grade": 94,
          "litre": 4.7860000000000005,
          "odometer": 11288,
          "price": 1.459,
          "tank": 33.43
         },
         {
          "cost": 6.78,
          "date": "2016-07-07 00:00:00+00:00",
          "fueleff": 27.08,
          "grade": 94,
          "litre": 4.742,
          "odometer": 11448,
          "price": 1.429,
          "tank": 32.26
         },
         {
          "cost": 6.29,
          "date": "2016-07-14 00:00:00+00:00",
          "fueleff": 28.27,
          "grade": 91,
          "litre": 4.4,
          "odometer": 11601,
          "price": 1.429,
          "tank": 36.59
         },
         {
          "cost": 7.34,
          "date": "2016-07-18 00:00:00+00:00",
          "fueleff": 28.79,
          "grade": 94,
          "litre": 5.0680000000000005,
          "odometer": 11762,
          "price": 1.449,
          "tank": 34.53
         },
         {
          "cost": 6.23,
          "date": "2016-07-25 00:00:00+00:00",
          "fueleff": 30.05,
          "grade": 94,
          "litre": 4.4239999999999995,
          "odometer": 11937,
          "price": 1.409,
          "tank": 40.01
         },
         {
          "cost": 7.2,
          "date": "2016-08-02 00:00:00+00:00",
          "fueleff": 30.43,
          "grade": 94,
          "litre": 5.337999999999999,
          "odometer": 12114,
          "price": 1.349,
          "tank": 30.54
         },
         {
          "cost": 5.73,
          "date": "2016-08-08 00:00:00+00:00",
          "fueleff": 30.77,
          "grade": 84,
          "litre": 4.821000000000001,
          "odometer": 12277,
          "price": 1.189,
          "tank": 34.23
         },
         {
          "cost": 6.82,
          "date": "2016-08-15 00:00:00+00:00",
          "fueleff": 31.03,
          "grade": 94,
          "litre": 4.909,
          "odometer": 12442,
          "price": 1.389,
          "tank": 41.15
         },
         {
          "cost": 7.53,
          "date": "2016-08-20 00:00:00+00:00",
          "fueleff": 31.67,
          "grade": 91,
          "litre": 5.307,
          "odometer": 12644,
          "price": 1.419,
          "tank": 33.35
         },
         {
          "cost": 6.85,
          "date": "2016-08-26 00:00:00+00:00",
          "fueleff": 32.12,
          "grade": 94,
          "litre": 4.6930000000000005,
          "odometer": 12821,
          "price": 1.459,
          "tank": 33.88
         },
         {
          "cost": 5.99,
          "date": "2016-09-06 00:00:00+00:00",
          "fueleff": 32.16,
          "grade": 87,
          "litre": 4.871,
          "odometer": 12980,
          "price": 1.229,
          "tank": 29.56
         },
         {
          "cost": 6.02,
          "date": "2016-09-18 00:00:00+00:00",
          "fueleff": 32.07,
          "grade": 87,
          "litre": 4.669,
          "odometer": 13124,
          "price": 1.2890000000000001,
          "tank": 33.63
         },
         {
          "cost": 5.91,
          "date": "2016-10-08 00:00:00+00:00",
          "fueleff": 32.16,
          "grade": 87,
          "litre": 4.691,
          "odometer": 13281,
          "price": 1.2590000000000001,
          "tank": 34.32
         },
         {
          "cost": 5.75,
          "date": "2016-11-25 00:00:00+00:00",
          "fueleff": 32.18,
          "grade": 87,
          "litre": 4.958,
          "odometer": 13442,
          "price": 1.159,
          "tank": 31.46
         },
         {
          "cost": 5.63,
          "date": "2017-01-28 00:00:00+00:00",
          "fueleff": 32.22,
          "grade": 87,
          "litre": 4.7330000000000005,
          "odometer": 13598,
          "price": 1.189,
          "tank": 31.48
         },
         {
          "cost": 5.71,
          "date": "2017-02-16 00:00:00+00:00",
          "fueleff": 32.25,
          "grade": 87,
          "litre": 4.538,
          "odometer": 13747,
          "price": 1.2590000000000001,
          "tank": 29.97
         },
         {
          "cost": 6.11,
          "date": "2017-02-26 00:00:00+00:00",
          "fueleff": 32.1,
          "grade": 87,
          "litre": 4.666,
          "odometer": 13883,
          "price": 1.3090000000000002,
          "tank": 29.79
         },
         {
          "cost": 6.22,
          "date": "2017-03-19 00:00:00+00:00",
          "fueleff": 31.99,
          "grade": 87,
          "litre": 4.6819999999999995,
          "odometer": 14022,
          "price": 1.329,
          "tank": 33.53
         },
         {
          "cost": 6.65,
          "date": "2017-04-11 00:00:00+00:00",
          "fueleff": 31.98,
          "grade": 87,
          "litre": 4.9319999999999995,
          "odometer": 14179,
          "price": 1.349,
          "tank": 34.06
         },
         {
          "cost": 6.34,
          "date": "2017-05-14 00:00:00+00:00",
          "fueleff": 32.11,
          "grade": 87,
          "litre": 4.788,
          "odometer": 14347,
          "price": 1.325,
          "tank": 30.49
         },
         {
          "cost": 6.37,
          "date": "2017-05-25 00:00:00+00:00",
          "fueleff": 32.05,
          "grade": 87,
          "litre": 4.782,
          "odometer": 14493,
          "price": 1.329,
          "tank": 29.49
         },
         {
          "cost": 5.57,
          "date": "2017-06-24 00:00:00+00:00",
          "fueleff": 32.07,
          "grade": 87,
          "litre": 4.321000000000001,
          "odometer": 14634,
          "price": 1.284,
          "tank": 39.81
         },
         {
          "cost": 7.22,
          "date": "2017-07-02 00:00:00+00:00",
          "fueleff": 32.07,
          "grade": 87,
          "litre": 5.352,
          "odometer": 14806,
          "price": 1.349,
          "tank": 33.07
         },
         {
          "cost": 6.21,
          "date": "2017-07-13 00:00:00+00:00",
          "fueleff": 32.29,
          "grade": 87,
          "litre": 4.637,
          "odometer": 14983,
          "price": 1.339,
          "tank": 31.92
         },
         {
          "cost": 5.45,
          "date": "2017-07-21 00:00:00+00:00",
          "fueleff": 32.38,
          "grade": 87,
          "litre": 4.228,
          "odometer": 15131,
          "price": 1.2890000000000001,
          "tank": 38.79
         },
         {
          "cost": 6.57,
          "date": "2017-07-29 00:00:00+00:00",
          "fueleff": 32.39,
          "grade": 87,
          "litre": 5.022,
          "odometer": 15295,
          "price": 1.3090000000000002,
          "tank": 38.03
         },
         {
          "cost": 6.91,
          "date": "2017-08-09 00:00:00+00:00",
          "fueleff": 32.54,
          "grade": 87,
          "litre": 5.202999999999999,
          "odometer": 15486,
          "price": 1.329,
          "tank": 28.25
         },
         {
          "cost": 6.2,
          "date": "2017-08-17 00:00:00+00:00",
          "fueleff": 32.54,
          "grade": 87,
          "litre": 4.53,
          "odometer": 15633,
          "price": 1.369,
          "tank": 39.29
         },
         {
          "cost": 6.8,
          "date": "2017-08-25 00:00:00+00:00",
          "fueleff": 32.68,
          "grade": 87,
          "litre": 4.829,
          "odometer": 15811,
          "price": 1.409,
          "tank": 25.89
         },
         {
          "cost": 4.64,
          "date": "2017-08-30 00:00:00+00:00",
          "fueleff": 32.75,
          "grade": 87,
          "litre": 3.467,
          "odometer": 15936,
          "price": 1.339,
          "tank": 55.38
         },
         {
          "cost": 7.32,
          "date": "2017-09-10 00:00:00+00:00",
          "fueleff": 32.86,
          "grade": 87,
          "litre": 5.3020000000000005,
          "odometer": 16128,
          "price": 1.379,
          "tank": 24.9
         },
         {
          "cost": 5.19,
          "date": "2017-09-16 00:00:00+00:00",
          "fueleff": 32.9,
          "grade": 87,
          "litre": 3.845,
          "odometer": 16260,
          "price": 1.349,
          "tank": 36.15
         },
         {
          "cost": 5.76,
          "date": "2017-09-21 00:00:00+00:00",
          "fueleff": 32.88,
          "grade": 87,
          "litre": 4.335,
          "odometer": 16399,
          "price": 1.329,
          "tank": 36.68
         },
         {
          "cost": 6.33,
          "date": "2017-09-27 00:00:00+00:00",
          "fueleff": 32.9,
          "grade": 87,
          "litre": 4.727,
          "odometer": 16558,
          "price": 1.339,
          "tank": 31.52
         },
         {
          "cost": 5.69,
          "date": "2017-10-05 00:00:00+00:00",
          "fueleff": 32.95,
          "grade": 87,
          "litre": 4.252,
          "odometer": 16707,
          "price": 1.339,
          "tank": 31.04
         },
         {
          "cost": 5.8,
          "date": "2017-10-10 00:00:00+00:00",
          "fueleff": 32.87,
          "grade": 87,
          "litre": 4.465,
          "odometer": 16839,
          "price": 1.2990000000000002,
          "tank": 36.73
         },
         {
          "cost": 6.82,
          "date": "2017-10-16 00:00:00+00:00",
          "fueleff": 32.88,
          "grade": 87,
          "litre": 4.885,
          "odometer": 17003,
          "price": 1.369,
          "tank": 31.73
         },
         {
          "cost": 6.89,
          "date": "2017-10-22 00:00:00+00:00",
          "fueleff": 32.84,
          "grade": 87,
          "litre": 4.958,
          "odometer": 17158,
          "price": 1.389,
          "tank": 32.27
         },
         {
          "cost": 6.06,
          "date": "2017-10-27 00:00:00+00:00",
          "fueleff": 32.92,
          "grade": 87,
          "litre": 4.426,
          "odometer": 17318,
          "price": 1.369,
          "tank": 30.5
         },
         {
          "cost": 6.43,
          "date": "2017-11-05 00:00:00+00:00",
          "fueleff": 32.87,
          "grade": 87,
          "litre": 4.405,
          "odometer": 17453,
          "price": 1.459,
          "tank": 31.33
         },
         {
          "cost": 6.38,
          "date": "2017-11-25 00:00:00+00:00",
          "fueleff": 32.8,
          "grade": 87,
          "litre": 4.627,
          "odometer": 17591,
          "price": 1.379,
          "tank": 27.02
         },
         {
          "cost": 4.9,
          "date": "2017-12-03 00:00:00+00:00",
          "fueleff": 32.83,
          "grade": 87,
          "litre": 3.633,
          "odometer": 17716,
          "price": 1.349,
          "tank": 39.36
         },
         {
          "cost": 6.26,
          "date": "2017-12-08 00:00:00+00:00",
          "fueleff": 32.77,
          "grade": 87,
          "litre": 4.747,
          "odometer": 17859,
          "price": 1.319,
          "tank": 27.81
         },
         {
          "cost": 5.61,
          "date": "2018-01-06 00:00:00+00:00",
          "fueleff": 32.77,
          "grade": 87,
          "litre": 3.9819999999999998,
          "odometer": 17991,
          "price": 1.409,
          "tank": 31.89
         },
         {
          "cost": 5.51,
          "date": "2018-01-21 00:00:00+00:00",
          "fueleff": 32.75,
          "grade": 87,
          "litre": 4.0569999999999995,
          "odometer": 18118,
          "price": 1.359,
          "tank": 32.54
         },
         {
          "cost": 6.17,
          "date": "2018-03-01 00:00:00+00:00",
          "fueleff": 32.73,
          "grade": 87,
          "litre": 4.144,
          "odometer": 18250,
          "price": 1.489,
          "tank": 36.2
         },
         {
          "cost": 6.85,
          "date": "2018-03-24 00:00:00+00:00",
          "fueleff": 32.76,
          "grade": 87,
          "litre": 4.396,
          "odometer": 18400,
          "price": 1.5590000000000002,
          "tank": 25.93
         },
         {
          "cost": 5.52,
          "date": "2018-04-09 00:00:00+00:00",
          "fueleff": 32.72,
          "grade": 87,
          "litre": 3.734,
          "odometer": 18514,
          "price": 1.479,
          "tank": 31.87
         },
         {
          "cost": 6.67,
          "date": "2018-04-21 00:00:00+00:00",
          "fueleff": 32.63,
          "grade": 87,
          "litre": 4.281000000000001,
          "odometer": 18633,
          "price": 1.5590000000000002,
          "tank": 33.64
         },
         {
          "cost": 6.5,
          "date": "2018-04-24 00:00:00+00:00",
          "fueleff": 32.66,
          "grade": 87,
          "litre": 4.253,
          "odometer": 18777,
          "price": 1.5290000000000001,
          "tank": 38.56
         },
         {
          "cost": 6.96,
          "date": "2018-05-04 00:00:00+00:00",
          "fueleff": 32.72,
          "grade": 87,
          "litre": 4.553999999999999,
          "odometer": 18941,
          "price": 1.5290000000000001,
          "tank": 33.38
         },
         {
          "cost": 6.66,
          "date": "2018-05-14 00:00:00+00:00",
          "fueleff": 32.79,
          "grade": 87,
          "litre": 4.114,
          "odometer": 19093,
          "price": 1.619,
          "tank": 29.65
         },
         {
          "cost": 6.36,
          "date": "2018-05-30 00:00:00+00:00",
          "fueleff": 32.75,
          "grade": 87,
          "litre": 4,
          "odometer": 19215,
          "price": 1.589,
          "tank": 33
         },
         {
          "cost": 6.11,
          "date": "2018-06-11 00:00:00+00:00",
          "fueleff": 32.74,
          "grade": 87,
          "litre": 4.075,
          "odometer": 19347,
          "price": 1.499,
          "tank": 32.64
         },
         {
          "cost": 5.92,
          "date": "2018-06-18 00:00:00+00:00",
          "fueleff": 32.75,
          "grade": 87,
          "litre": 4.03,
          "odometer": 19480,
          "price": 1.469,
          "tank": 34.24
         },
         {
          "cost": 6.4,
          "date": "2018-07-09 00:00:00+00:00",
          "fueleff": 32.75,
          "grade": 87,
          "litre": 4.212,
          "odometer": 19618,
          "price": 1.5190000000000001,
          "tank": 33.48
         },
         {
          "cost": 6.64,
          "date": "2018-07-16 00:00:00+00:00",
          "fueleff": 32.73,
          "grade": 87,
          "litre": 4.43,
          "odometer": 19759,
          "price": 1.499,
          "tank": 34.99
         },
         {
          "cost": 6.63,
          "date": "2018-07-24 00:00:00+00:00",
          "fueleff": 32.77,
          "grade": 87,
          "litre": 4.421,
          "odometer": 19914,
          "price": 1.499,
          "tank": 34.83
         },
         {
          "cost": 5.42,
          "date": "2018-08-05 00:00:00+00:00",
          "fueleff": 32.9,
          "grade": 87,
          "litre": 3.592,
          "odometer": 20068,
          "price": 1.5090000000000001,
          "tank": 41.2
         },
         {
          "cost": 7.17,
          "date": "2018-08-18 00:00:00+00:00",
          "fueleff": 32.84,
          "grade": 87,
          "litre": 4.982,
          "odometer": 20216,
          "price": 1.439,
          "tank": null
         }
        ]
       },
       "layer": [
        {
         "encoding": {
          "color": {
           "condition": {
            "selection": "selector106",
            "value": "gray"
           },
           "field": "grade",
           "type": "nominal"
          },
          "x": {
           "field": "date",
           "type": "temporal"
          },
          "y": {
           "field": "price",
           "type": "quantitative"
          }
         },
         "mark": "bar",
         "selection": {
          "selector106": {
           "empty": "none",
           "fields": [
            "_vgsid_"
           ],
           "nearest": false,
           "on": "mouseover",
           "resolve": "global",
           "type": "single"
          },
          "selector107": {
           "bind": "scales",
           "encodings": [
            "x",
            "y"
           ],
           "mark": {
            "fill": "#333",
            "fillOpacity": 0.125,
            "stroke": "white"
           },
           "on": "[mousedown, window:mouseup] > window:mousemove!",
           "resolve": "global",
           "translate": "[mousedown, window:mouseup] > window:mousemove!",
           "type": "interval",
           "zoom": "wheel!"
          }
         }
        },
        {
         "encoding": {
          "color": {
           "condition": {
            "selection": "selector106",
            "value": "gray"
           },
           "field": "grade",
           "type": "nominal"
          },
          "opacity": {
           "condition": {
            "selection": "selector106",
            "value": 1
           },
           "value": 0
          },
          "text": {
           "field": "grade",
           "type": "nominal"
          },
          "x": {
           "field": "date",
           "type": "temporal"
          },
          "y": {
           "field": "price",
           "type": "quantitative"
          }
         },
         "mark": {
          "dy": -5,
          "type": "text"
         }
        }
       ]
      },
      "image/png": "[encoded data removed]",
      "text/plain": [
       "<VegaLite 2 object>\n",
       "\n",
       "If you see this message, it means the renderer has not been properly enabled\n",
       "for the frontend that you are using. For more information, see\n",
       "https://altair-viz.github.io/user_guide/troubleshooting.html\n"
      ]
     },
     "execution_count": 81,
     "metadata": {},
     "output_type": "execute_result"
    }
   ],
   "source": [
    "hover = alt.selection_single(on='mouseover', nearest=False, empty='none')\n",
    "\n",
    "base = alt.Chart().mark_bar().encode(\n",
    "    x='date:T',\n",
    "    y='price:Q',\n",
    "    color=alt.condition(hover, alt.value('gray'),'grade:N')\n",
    ")\n",
    "\n",
    "chart = base.mark_bar().add_selection(\n",
    "    hover\n",
    ").interactive()\n",
    "\n",
    "chart += base.mark_text(dy=-5).encode(\n",
    "    text = 'grade:N',\n",
    "    opacity = alt.condition(hover, alt.value(1), alt.value(0))\n",
    ")\n",
    "chart.data=data\n",
    "chart"
   ]
  },
  {
   "cell_type": "code",
   "execution_count": 82,
   "metadata": {},
   "outputs": [
    {
     "data": {
      "application/vnd.vegalite.v2+json": {
       "$schema": "https://vega.github.io/schema/vega-lite/v2.6.0.json",
       "config": {
        "view": {
         "height": 300,
         "width": 400
        }
       },
       "datasets": {
        "data-4b362a8ad2381def531a7a63e4bb0177": [
         {
          "cost": 7.12,
          "date": "2016-06-14 00:00:00+00:00",
          "fueleff": null,
          "grade": 94,
          "litre": 5.129,
          "odometer": 10795,
          "price": 1.389,
          "tank": 33.53
         },
         {
          "cost": 7.51,
          "date": "2016-06-20 00:00:00+00:00",
          "fueleff": 16.68,
          "grade": 94,
          "litre": 5.185,
          "odometer": 10967,
          "price": 1.449,
          "tank": 31.24
         },
         {
          "cost": 6.17,
          "date": "2016-06-24 00:00:00+00:00",
          "fueleff": 22.9,
          "grade": 94,
          "litre": 4.273,
          "odometer": 11129,
          "price": 1.444,
          "tank": 37.21
         },
         {
          "cost": 6.98,
          "date": "2016-06-30 00:00:00+00:00",
          "fueleff": 25.45,
          "grade": 94,
          "litre": 4.7860000000000005,
          "odometer": 11288,
          "price": 1.459,
          "tank": 33.43
         },
         {
          "cost": 6.78,
          "date": "2016-07-07 00:00:00+00:00",
          "fueleff": 27.08,
          "grade": 94,
          "litre": 4.742,
          "odometer": 11448,
          "price": 1.429,
          "tank": 32.26
         },
         {
          "cost": 6.29,
          "date": "2016-07-14 00:00:00+00:00",
          "fueleff": 28.27,
          "grade": 91,
          "litre": 4.4,
          "odometer": 11601,
          "price": 1.429,
          "tank": 36.59
         },
         {
          "cost": 7.34,
          "date": "2016-07-18 00:00:00+00:00",
          "fueleff": 28.79,
          "grade": 94,
          "litre": 5.0680000000000005,
          "odometer": 11762,
          "price": 1.449,
          "tank": 34.53
         },
         {
          "cost": 6.23,
          "date": "2016-07-25 00:00:00+00:00",
          "fueleff": 30.05,
          "grade": 94,
          "litre": 4.4239999999999995,
          "odometer": 11937,
          "price": 1.409,
          "tank": 40.01
         },
         {
          "cost": 7.2,
          "date": "2016-08-02 00:00:00+00:00",
          "fueleff": 30.43,
          "grade": 94,
          "litre": 5.337999999999999,
          "odometer": 12114,
          "price": 1.349,
          "tank": 30.54
         },
         {
          "cost": 5.73,
          "date": "2016-08-08 00:00:00+00:00",
          "fueleff": 30.77,
          "grade": 84,
          "litre": 4.821000000000001,
          "odometer": 12277,
          "price": 1.189,
          "tank": 34.23
         },
         {
          "cost": 6.82,
          "date": "2016-08-15 00:00:00+00:00",
          "fueleff": 31.03,
          "grade": 94,
          "litre": 4.909,
          "odometer": 12442,
          "price": 1.389,
          "tank": 41.15
         },
         {
          "cost": 7.53,
          "date": "2016-08-20 00:00:00+00:00",
          "fueleff": 31.67,
          "grade": 91,
          "litre": 5.307,
          "odometer": 12644,
          "price": 1.419,
          "tank": 33.35
         },
         {
          "cost": 6.85,
          "date": "2016-08-26 00:00:00+00:00",
          "fueleff": 32.12,
          "grade": 94,
          "litre": 4.6930000000000005,
          "odometer": 12821,
          "price": 1.459,
          "tank": 33.88
         },
         {
          "cost": 5.99,
          "date": "2016-09-06 00:00:00+00:00",
          "fueleff": 32.16,
          "grade": 87,
          "litre": 4.871,
          "odometer": 12980,
          "price": 1.229,
          "tank": 29.56
         },
         {
          "cost": 6.02,
          "date": "2016-09-18 00:00:00+00:00",
          "fueleff": 32.07,
          "grade": 87,
          "litre": 4.669,
          "odometer": 13124,
          "price": 1.2890000000000001,
          "tank": 33.63
         },
         {
          "cost": 5.91,
          "date": "2016-10-08 00:00:00+00:00",
          "fueleff": 32.16,
          "grade": 87,
          "litre": 4.691,
          "odometer": 13281,
          "price": 1.2590000000000001,
          "tank": 34.32
         },
         {
          "cost": 5.75,
          "date": "2016-11-25 00:00:00+00:00",
          "fueleff": 32.18,
          "grade": 87,
          "litre": 4.958,
          "odometer": 13442,
          "price": 1.159,
          "tank": 31.46
         },
         {
          "cost": 5.63,
          "date": "2017-01-28 00:00:00+00:00",
          "fueleff": 32.22,
          "grade": 87,
          "litre": 4.7330000000000005,
          "odometer": 13598,
          "price": 1.189,
          "tank": 31.48
         },
         {
          "cost": 5.71,
          "date": "2017-02-16 00:00:00+00:00",
          "fueleff": 32.25,
          "grade": 87,
          "litre": 4.538,
          "odometer": 13747,
          "price": 1.2590000000000001,
          "tank": 29.97
         },
         {
          "cost": 6.11,
          "date": "2017-02-26 00:00:00+00:00",
          "fueleff": 32.1,
          "grade": 87,
          "litre": 4.666,
          "odometer": 13883,
          "price": 1.3090000000000002,
          "tank": 29.79
         },
         {
          "cost": 6.22,
          "date": "2017-03-19 00:00:00+00:00",
          "fueleff": 31.99,
          "grade": 87,
          "litre": 4.6819999999999995,
          "odometer": 14022,
          "price": 1.329,
          "tank": 33.53
         },
         {
          "cost": 6.65,
          "date": "2017-04-11 00:00:00+00:00",
          "fueleff": 31.98,
          "grade": 87,
          "litre": 4.9319999999999995,
          "odometer": 14179,
          "price": 1.349,
          "tank": 34.06
         },
         {
          "cost": 6.34,
          "date": "2017-05-14 00:00:00+00:00",
          "fueleff": 32.11,
          "grade": 87,
          "litre": 4.788,
          "odometer": 14347,
          "price": 1.325,
          "tank": 30.49
         },
         {
          "cost": 6.37,
          "date": "2017-05-25 00:00:00+00:00",
          "fueleff": 32.05,
          "grade": 87,
          "litre": 4.782,
          "odometer": 14493,
          "price": 1.329,
          "tank": 29.49
         },
         {
          "cost": 5.57,
          "date": "2017-06-24 00:00:00+00:00",
          "fueleff": 32.07,
          "grade": 87,
          "litre": 4.321000000000001,
          "odometer": 14634,
          "price": 1.284,
          "tank": 39.81
         },
         {
          "cost": 7.22,
          "date": "2017-07-02 00:00:00+00:00",
          "fueleff": 32.07,
          "grade": 87,
          "litre": 5.352,
          "odometer": 14806,
          "price": 1.349,
          "tank": 33.07
         },
         {
          "cost": 6.21,
          "date": "2017-07-13 00:00:00+00:00",
          "fueleff": 32.29,
          "grade": 87,
          "litre": 4.637,
          "odometer": 14983,
          "price": 1.339,
          "tank": 31.92
         },
         {
          "cost": 5.45,
          "date": "2017-07-21 00:00:00+00:00",
          "fueleff": 32.38,
          "grade": 87,
          "litre": 4.228,
          "odometer": 15131,
          "price": 1.2890000000000001,
          "tank": 38.79
         },
         {
          "cost": 6.57,
          "date": "2017-07-29 00:00:00+00:00",
          "fueleff": 32.39,
          "grade": 87,
          "litre": 5.022,
          "odometer": 15295,
          "price": 1.3090000000000002,
          "tank": 38.03
         },
         {
          "cost": 6.91,
          "date": "2017-08-09 00:00:00+00:00",
          "fueleff": 32.54,
          "grade": 87,
          "litre": 5.202999999999999,
          "odometer": 15486,
          "price": 1.329,
          "tank": 28.25
         },
         {
          "cost": 6.2,
          "date": "2017-08-17 00:00:00+00:00",
          "fueleff": 32.54,
          "grade": 87,
          "litre": 4.53,
          "odometer": 15633,
          "price": 1.369,
          "tank": 39.29
         },
         {
          "cost": 6.8,
          "date": "2017-08-25 00:00:00+00:00",
          "fueleff": 32.68,
          "grade": 87,
          "litre": 4.829,
          "odometer": 15811,
          "price": 1.409,
          "tank": 25.89
         },
         {
          "cost": 4.64,
          "date": "2017-08-30 00:00:00+00:00",
          "fueleff": 32.75,
          "grade": 87,
          "litre": 3.467,
          "odometer": 15936,
          "price": 1.339,
          "tank": 55.38
         },
         {
          "cost": 7.32,
          "date": "2017-09-10 00:00:00+00:00",
          "fueleff": 32.86,
          "grade": 87,
          "litre": 5.3020000000000005,
          "odometer": 16128,
          "price": 1.379,
          "tank": 24.9
         },
         {
          "cost": 5.19,
          "date": "2017-09-16 00:00:00+00:00",
          "fueleff": 32.9,
          "grade": 87,
          "litre": 3.845,
          "odometer": 16260,
          "price": 1.349,
          "tank": 36.15
         },
         {
          "cost": 5.76,
          "date": "2017-09-21 00:00:00+00:00",
          "fueleff": 32.88,
          "grade": 87,
          "litre": 4.335,
          "odometer": 16399,
          "price": 1.329,
          "tank": 36.68
         },
         {
          "cost": 6.33,
          "date": "2017-09-27 00:00:00+00:00",
          "fueleff": 32.9,
          "grade": 87,
          "litre": 4.727,
          "odometer": 16558,
          "price": 1.339,
          "tank": 31.52
         },
         {
          "cost": 5.69,
          "date": "2017-10-05 00:00:00+00:00",
          "fueleff": 32.95,
          "grade": 87,
          "litre": 4.252,
          "odometer": 16707,
          "price": 1.339,
          "tank": 31.04
         },
         {
          "cost": 5.8,
          "date": "2017-10-10 00:00:00+00:00",
          "fueleff": 32.87,
          "grade": 87,
          "litre": 4.465,
          "odometer": 16839,
          "price": 1.2990000000000002,
          "tank": 36.73
         },
         {
          "cost": 6.82,
          "date": "2017-10-16 00:00:00+00:00",
          "fueleff": 32.88,
          "grade": 87,
          "litre": 4.885,
          "odometer": 17003,
          "price": 1.369,
          "tank": 31.73
         },
         {
          "cost": 6.89,
          "date": "2017-10-22 00:00:00+00:00",
          "fueleff": 32.84,
          "grade": 87,
          "litre": 4.958,
          "odometer": 17158,
          "price": 1.389,
          "tank": 32.27
         },
         {
          "cost": 6.06,
          "date": "2017-10-27 00:00:00+00:00",
          "fueleff": 32.92,
          "grade": 87,
          "litre": 4.426,
          "odometer": 17318,
          "price": 1.369,
          "tank": 30.5
         },
         {
          "cost": 6.43,
          "date": "2017-11-05 00:00:00+00:00",
          "fueleff": 32.87,
          "grade": 87,
          "litre": 4.405,
          "odometer": 17453,
          "price": 1.459,
          "tank": 31.33
         },
         {
          "cost": 6.38,
          "date": "2017-11-25 00:00:00+00:00",
          "fueleff": 32.8,
          "grade": 87,
          "litre": 4.627,
          "odometer": 17591,
          "price": 1.379,
          "tank": 27.02
         },
         {
          "cost": 4.9,
          "date": "2017-12-03 00:00:00+00:00",
          "fueleff": 32.83,
          "grade": 87,
          "litre": 3.633,
          "odometer": 17716,
          "price": 1.349,
          "tank": 39.36
         },
         {
          "cost": 6.26,
          "date": "2017-12-08 00:00:00+00:00",
          "fueleff": 32.77,
          "grade": 87,
          "litre": 4.747,
          "odometer": 17859,
          "price": 1.319,
          "tank": 27.81
         },
         {
          "cost": 5.61,
          "date": "2018-01-06 00:00:00+00:00",
          "fueleff": 32.77,
          "grade": 87,
          "litre": 3.9819999999999998,
          "odometer": 17991,
          "price": 1.409,
          "tank": 31.89
         },
         {
          "cost": 5.51,
          "date": "2018-01-21 00:00:00+00:00",
          "fueleff": 32.75,
          "grade": 87,
          "litre": 4.0569999999999995,
          "odometer": 18118,
          "price": 1.359,
          "tank": 32.54
         },
         {
          "cost": 6.17,
          "date": "2018-03-01 00:00:00+00:00",
          "fueleff": 32.73,
          "grade": 87,
          "litre": 4.144,
          "odometer": 18250,
          "price": 1.489,
          "tank": 36.2
         },
         {
          "cost": 6.85,
          "date": "2018-03-24 00:00:00+00:00",
          "fueleff": 32.76,
          "grade": 87,
          "litre": 4.396,
          "odometer": 18400,
          "price": 1.5590000000000002,
          "tank": 25.93
         },
         {
          "cost": 5.52,
          "date": "2018-04-09 00:00:00+00:00",
          "fueleff": 32.72,
          "grade": 87,
          "litre": 3.734,
          "odometer": 18514,
          "price": 1.479,
          "tank": 31.87
         },
         {
          "cost": 6.67,
          "date": "2018-04-21 00:00:00+00:00",
          "fueleff": 32.63,
          "grade": 87,
          "litre": 4.281000000000001,
          "odometer": 18633,
          "price": 1.5590000000000002,
          "tank": 33.64
         },
         {
          "cost": 6.5,
          "date": "2018-04-24 00:00:00+00:00",
          "fueleff": 32.66,
          "grade": 87,
          "litre": 4.253,
          "odometer": 18777,
          "price": 1.5290000000000001,
          "tank": 38.56
         },
         {
          "cost": 6.96,
          "date": "2018-05-04 00:00:00+00:00",
          "fueleff": 32.72,
          "grade": 87,
          "litre": 4.553999999999999,
          "odometer": 18941,
          "price": 1.5290000000000001,
          "tank": 33.38
         },
         {
          "cost": 6.66,
          "date": "2018-05-14 00:00:00+00:00",
          "fueleff": 32.79,
          "grade": 87,
          "litre": 4.114,
          "odometer": 19093,
          "price": 1.619,
          "tank": 29.65
         },
         {
          "cost": 6.36,
          "date": "2018-05-30 00:00:00+00:00",
          "fueleff": 32.75,
          "grade": 87,
          "litre": 4,
          "odometer": 19215,
          "price": 1.589,
          "tank": 33
         },
         {
          "cost": 6.11,
          "date": "2018-06-11 00:00:00+00:00",
          "fueleff": 32.74,
          "grade": 87,
          "litre": 4.075,
          "odometer": 19347,
          "price": 1.499,
          "tank": 32.64
         },
         {
          "cost": 5.92,
          "date": "2018-06-18 00:00:00+00:00",
          "fueleff": 32.75,
          "grade": 87,
          "litre": 4.03,
          "odometer": 19480,
          "price": 1.469,
          "tank": 34.24
         },
         {
          "cost": 6.4,
          "date": "2018-07-09 00:00:00+00:00",
          "fueleff": 32.75,
          "grade": 87,
          "litre": 4.212,
          "odometer": 19618,
          "price": 1.5190000000000001,
          "tank": 33.48
         },
         {
          "cost": 6.64,
          "date": "2018-07-16 00:00:00+00:00",
          "fueleff": 32.73,
          "grade": 87,
          "litre": 4.43,
          "odometer": 19759,
          "price": 1.499,
          "tank": 34.99
         },
         {
          "cost": 6.63,
          "date": "2018-07-24 00:00:00+00:00",
          "fueleff": 32.77,
          "grade": 87,
          "litre": 4.421,
          "odometer": 19914,
          "price": 1.499,
          "tank": 34.83
         },
         {
          "cost": 5.42,
          "date": "2018-08-05 00:00:00+00:00",
          "fueleff": 32.9,
          "grade": 87,
          "litre": 3.592,
          "odometer": 20068,
          "price": 1.5090000000000001,
          "tank": 41.2
         },
         {
          "cost": 7.17,
          "date": "2018-08-18 00:00:00+00:00",
          "fueleff": 32.84,
          "grade": 87,
          "litre": 4.982,
          "odometer": 20216,
          "price": 1.439,
          "tank": null
         }
        ]
       },
       "layer": [
        {
         "data": {
          "name": "data-4b362a8ad2381def531a7a63e4bb0177"
         },
         "encoding": {
          "color": {
           "field": "grade",
           "type": "nominal"
          },
          "x": {
           "field": "date",
           "type": "temporal"
          },
          "y": {
           "field": "price",
           "type": "quantitative"
          }
         },
         "mark": "bar",
         "selection": {
          "selector109": {
           "bind": "scales",
           "encodings": [
            "x",
            "y"
           ],
           "mark": {
            "fill": "#333",
            "fillOpacity": 0.125,
            "stroke": "white"
           },
           "on": "[mousedown, window:mouseup] > window:mousemove!",
           "resolve": "global",
           "translate": "[mousedown, window:mouseup] > window:mousemove!",
           "type": "interval",
           "zoom": "wheel!"
          }
         }
        },
        {
         "layer": [
          {
           "data": {
            "name": "data-4b362a8ad2381def531a7a63e4bb0177"
           },
           "encoding": {
            "x": {
             "field": "date",
             "type": "temporal"
            },
            "y": {
             "field": "tank",
             "type": "quantitative"
            }
           },
           "mark": {
            "color": "blue",
            "type": "line"
           }
          },
          {
           "data": {
            "name": "data-4b362a8ad2381def531a7a63e4bb0177"
           },
           "encoding": {
            "x": {
             "field": "date",
             "type": "temporal"
            },
            "y": {
             "field": "fueleff",
             "type": "quantitative"
            }
           },
           "mark": {
            "color": "red",
            "type": "line"
           }
          }
         ]
        }
       ],
       "resolve": {
        "scale": {
         "color": "shared",
         "x": "shared",
         "y": "independent"
        }
       }
      },
      "image/png": "[encoded data removed]",
      "text/plain": [
       "<VegaLite 2 object>\n",
       "\n",
       "If you see this message, it means the renderer has not been properly enabled\n",
       "for the frontend that you are using. For more information, see\n",
       "https://altair-viz.github.io/user_guide/troubleshooting.html\n"
      ]
     },
     "execution_count": 82,
     "metadata": {},
     "output_type": "execute_result"
    }
   ],
   "source": [
    "highlight = alt.selection(type='single', on='mouseover', fields=['odometer'],nearest=True)\n",
    "\n",
    "base = alt.Chart(data).encode(\n",
    "    alt.X('date:T',\n",
    "        #axis=alt.Axis(format='%b'),\n",
    "        #scale=alt.Scale(zero=False)\n",
    "    )\n",
    ")\n",
    "\n",
    "bar = base.mark_bar().encode(\n",
    "    y='price:Q',\n",
    "    color='grade:N'\n",
    ")\n",
    "\n",
    "line =  base.mark_line(color='black').encode(\n",
    "    y='tank:Q',\n",
    "    size=alt.value(2)\n",
    ")\n",
    "\n",
    "sublayer = alt.layer(\n",
    "    base.mark_line(color='blue').encode(y='tank:Q'),\n",
    "    base.mark_line(color='red').encode(y='fueleff:Q')\n",
    ")\n",
    "\n",
    "\n",
    "alt.layer(\n",
    "    bar,\n",
    "    sublayer\n",
    ").resolve_scale(\n",
    "    y='independent'\n",
    ").interactive()"
   ]
  }
 ],
 "metadata": {
  "kernelspec": {
   "display_name": "Python 3",
   "language": "python",
   "name": "python3"
  },
  "language_info": {
   "codemirror_mode": {
    "name": "ipython",
    "version": 3
   },
   "file_extension": ".py",
   "mimetype": "text/x-python",
   "name": "python",
   "nbconvert_exporter": "python",
   "pygments_lexer": "ipython3",
   "version": "3.6.5"
  }
 },
 "nbformat": 4,
 "nbformat_minor": 2
}
